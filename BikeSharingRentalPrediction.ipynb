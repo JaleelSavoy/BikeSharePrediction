{
  "nbformat": 4,
  "nbformat_minor": 0,
  "metadata": {
    "colab": {
      "name": "BikeSharingRentalPrediction.ipynb",
      "provenance": [],
      "collapsed_sections": []
    },
    "kernelspec": {
      "name": "python3",
      "display_name": "Python 3"
    },
    "accelerator": "GPU"
  },
  "cells": [
    {
      "cell_type": "markdown",
      "metadata": {
        "id": "cznUjASHPOY_",
        "colab_type": "text"
      },
      "source": [
        "# **Predicting Next Day Percent Increase in Bikeshare Rentals**\n",
        "## **Jaleel Walter Henry Savoy**\n",
        "\n",
        "The objective of this project is to build a neural network to predict the daily percent increase in bike rentals from the next day for the Capital Bikeshare Program in the Washington, DC area. The data set includes data relating to the rentals themselves, the season, holiday status, and the weather conditions.\n",
        "\n",
        "First, I built a simple linear regression with L2-regularization to use as a performance baseline, and I then built a 5-layer deep feedforward neural network to account for non-linearities and better fit the true, underlying target function.\n",
        "\n",
        "The performance of the neural network greatly exceeds the performance of the linear regression with L2-regularization on the validation set, based on the R-squared and the mean-squared error of the models.\n",
        "\n",
        "Admittedly, the performance of this model is not amazing, but the coefficient of determination is still decent given the problem. "
      ]
    },
    {
      "cell_type": "markdown",
      "metadata": {
        "id": "575x6ANtEgJH",
        "colab_type": "text"
      },
      "source": [
        "# **Relevant Links**\n",
        "\n",
        "Data Description: https://archive.ics.uci.edu/ml/datasets/Bike+Sharing+Dataset\n",
        "\n",
        "Capital Bikeshare Site: https://www.capitalbikeshare.com/system-data\n",
        "\n",
        "Data Directory: https://archive.ics.uci.edu/ml/machine-learning-databases/00275/\n",
        "\n",
        "Compressed Data: https://archive.ics.uci.edu/ml/machine-learning-databases/00275/Bike-Sharing-Dataset.zip\n"
      ]
    },
    {
      "cell_type": "code",
      "metadata": {
        "id": "zgKEOhfqDZFe",
        "colab_type": "code",
        "colab": {}
      },
      "source": [
        "## Relevant Imports\n",
        "import numpy as np, pandas as pd, random\n",
        "from scipy import stats\n",
        "from matplotlib import pyplot as plt\n",
        "from sklearn.metrics import explained_variance_score, median_absolute_error, mean_absolute_error, max_error, r2_score, mean_squared_error\n",
        "from sklearn.model_selection import train_test_split\n",
        "from sklearn.linear_model import LinearRegression, Lasso\n",
        "\n",
        "\n",
        "import io\n",
        "import json\n",
        "import urllib.request\n",
        "import zipfile\n",
        "\n",
        "import os, random\n",
        "os.environ['PYTHONHASHSEED']=str(123)\n",
        "random.seed(123)\n",
        "np.random.seed(123)\n",
        "\n",
        "import pickle\n",
        "from google.colab import files"
      ],
      "execution_count": 0,
      "outputs": []
    },
    {
      "cell_type": "code",
      "metadata": {
        "id": "oQYWAvt_PlcF",
        "colab_type": "code",
        "colab": {}
      },
      "source": [
        "# Get the Data\n",
        "url = 'https://archive.ics.uci.edu/ml/machine-learning-databases/00275/Bike-Sharing-Dataset.zip'\n",
        "url = urllib.request.urlopen(url)\n",
        "zippedfile = zipfile.ZipFile(io.BytesIO(url.read()))\n",
        "data_raw = pd.read_csv(zippedfile.open('day.csv'))"
      ],
      "execution_count": 0,
      "outputs": []
    },
    {
      "cell_type": "code",
      "metadata": {
        "id": "Oy5a3zF3yDao",
        "colab_type": "code",
        "outputId": "67dc7da1-af8b-4bf6-91dc-6003dc485cf5",
        "colab": {
          "base_uri": "https://localhost:8080/",
          "height": 282
        }
      },
      "source": [
        "data = data_raw.loc[:, ['season', 'mnth', 'holiday', 'weekday','workingday',\n",
        "                        'weathersit', 'windspeed', 'temp','cnt']]\n",
        "data['weathersit_yest'] = data['weathersit'].shift(1)\n",
        "data['holiday_yest'] = data['holiday'].shift(1)\n",
        "data['windspeed_yest'] = data['windspeed'].shift(1)\n",
        "data['temp_yest'] = data['temp'].shift(1)\n",
        "data['cnt_yest'] = data['cnt'].shift(1)\n",
        "data['cnt_delta_diff_pct'] = (((data['cnt'].diff(1))/data['cnt_yest'])*100)\n",
        "data.drop([0], axis=0, inplace=True)\n",
        "data['z'] = np.abs(stats.zscore(data.cnt_delta_diff_pct))\n",
        "data = data[data['z'] < 3]\n",
        "data.cnt_delta_diff_pct.plot()"
      ],
      "execution_count": 3,
      "outputs": [
        {
          "output_type": "execute_result",
          "data": {
            "text/plain": [
              "<matplotlib.axes._subplots.AxesSubplot at 0x7f2f21ebafd0>"
            ]
          },
          "metadata": {
            "tags": []
          },
          "execution_count": 3
        },
        {
          "output_type": "display_data",
          "data": {
            "image/png": "[encoded data removed]",
            "text/plain": [
              "<Figure size 432x288 with 1 Axes>"
            ]
          },
          "metadata": {
            "tags": []
          }
        }
      ]
    },
    {
      "cell_type": "code",
      "metadata": {
        "id": "prD8vSyZxT0B",
        "colab_type": "code",
        "colab": {}
      },
      "source": [
        "response = ['cnt_delta_diff_pct']\n",
        "predictors = data.drop(['cnt', 'cnt_delta_diff_pct', 'z'], axis=1).columns"
      ],
      "execution_count": 0,
      "outputs": []
    },
    {
      "cell_type": "code",
      "metadata": {
        "id": "AuLI2jOIFKPF",
        "colab_type": "code",
        "colab": {}
      },
      "source": [
        "x_train, x_test, y_train, y_test = train_test_split(data[predictors], data[response],\n",
        "                                                    test_size=0.20, random_state=123, shuffle=True)"
      ],
      "execution_count": 0,
      "outputs": []
    },
    {
      "cell_type": "code",
      "metadata": {
        "id": "Q9Occ_UJSjBz",
        "colab_type": "code",
        "outputId": "685e6637-ba4a-4c43-f9d7-e389639b482f",
        "colab": {
          "base_uri": "https://localhost:8080/",
          "height": 282
        }
      },
      "source": [
        "plt.scatter(y_train.index, y_train, c='black')\n",
        "plt.scatter(y_test.index, y_test, c='red')"
      ],
      "execution_count": 6,
      "outputs": [
        {
          "output_type": "execute_result",
          "data": {
            "text/plain": [
              "<matplotlib.collections.PathCollection at 0x7f2f20992fd0>"
            ]
          },
          "metadata": {
            "tags": []
          },
          "execution_count": 6
        },
        {
          "output_type": "display_data",
          "data": {
            "image/png": "[encoded data removed]",
            "text/plain": [
              "<Figure size 432x288 with 1 Axes>"
            ]
          },
          "metadata": {
            "tags": []
          }
        }
      ]
    },
    {
      "cell_type": "code",
      "metadata": {
        "id": "My7MBVnxGElj",
        "colab_type": "code",
        "colab": {}
      },
      "source": [
        "lasso_reg_preds = Lasso(alpha=0.1).fit(x_train, y_train).predict(x_test)"
      ],
      "execution_count": 0,
      "outputs": []
    },
    {
      "cell_type": "code",
      "metadata": {
        "id": "oOYPDqUIHzzr",
        "colab_type": "code",
        "outputId": "9e34e74d-a574-4a9d-85b2-b7f9c4b6867f",
        "colab": {
          "base_uri": "https://localhost:8080/",
          "height": 123
        }
      },
      "source": [
        "print(explained_variance_score(y_test, lasso_reg_preds))\n",
        "print(r2_score(y_test, lasso_reg_preds))\n",
        "print(median_absolute_error(y_test, lasso_reg_preds))\n",
        "print(mean_absolute_error(y_test, lasso_reg_preds))\n",
        "print(mean_squared_error(y_test, lasso_reg_preds))\n",
        "print(max_error(y_test, lasso_reg_preds))"
      ],
      "execution_count": 8,
      "outputs": [
        {
          "output_type": "stream",
          "text": [
            "0.23734000418582646\n",
            "0.2365242374914941\n",
            "12.653547282190067\n",
            "20.031447181484396\n",
            "1437.4302644143065\n",
            "332.2325388439941\n"
          ],
          "name": "stdout"
        }
      ]
    },
    {
      "cell_type": "code",
      "metadata": {
        "id": "ttZDYGM0-sXA",
        "colab_type": "code",
        "outputId": "1590301e-7458-4386-8222-ac67496276a1",
        "colab": {
          "base_uri": "https://localhost:8080/",
          "height": 741
        }
      },
      "source": [
        "import keras\n",
        "from keras.layers import Dense, Activation, Dropout\n",
        "\n",
        "from tensorflow import set_random_seed\n",
        "set_random_seed(123)\n",
        " \n",
        "model = keras.Sequential()\n",
        "model.add(Dense(1024, input_dim=x_train.shape[1]))\n",
        "model.add(Dropout(0.05))\n",
        "model.add(Activation('relu'))\n",
        "model.add(Dense(1024))\n",
        "model.add(Dropout(0.05))\n",
        "model.add(Activation('relu'))\n",
        "model.add(Dense(1,))\n",
        "\n",
        "model.compile(loss='mean_squared_error', optimizer='adam')\n",
        "print(model.summary())"
      ],
      "execution_count": 9,
      "outputs": [
        {
          "output_type": "stream",
          "text": [
            "Using TensorFlow backend.\n"
          ],
          "name": "stderr"
        },
        {
          "output_type": "display_data",
          "data": {
            "text/html": [
              "<p style=\"color: red;\">\n",
              "The default version of TensorFlow in Colab will soon switch to TensorFlow 2.x.<br>\n",
              "We recommend you <a href=\"https://www.tensorflow.org/guide/migrate\" target=\"_blank\">upgrade</a> now \n",
              "or ensure your notebook will continue to use TensorFlow 1.x via the <code>%tensorflow_version 1.x</code> magic:\n",
              "<a href=\"https://colab.research.google.com/notebooks/tensorflow_version.ipynb\" target=\"_blank\">more info</a>.</p>\n"
            ],
            "text/plain": [
              "<IPython.core.display.HTML object>"
            ]
          },
          "metadata": {
            "tags": []
          }
        },
        {
          "output_type": "stream",
          "text": [
            "WARNING:tensorflow:From /usr/local/lib/python3.6/dist-packages/keras/backend/tensorflow_backend.py:66: The name tf.get_default_graph is deprecated. Please use tf.compat.v1.get_default_graph instead.\n",
            "\n",
            "WARNING:tensorflow:From /usr/local/lib/python3.6/dist-packages/keras/backend/tensorflow_backend.py:541: The name tf.placeholder is deprecated. Please use tf.compat.v1.placeholder instead.\n",
            "\n",
            "WARNING:tensorflow:From /usr/local/lib/python3.6/dist-packages/keras/backend/tensorflow_backend.py:4432: The name tf.random_uniform is deprecated. Please use tf.random.uniform instead.\n",
            "\n",
            "WARNING:tensorflow:From /usr/local/lib/python3.6/dist-packages/keras/backend/tensorflow_backend.py:148: The name tf.placeholder_with_default is deprecated. Please use tf.compat.v1.placeholder_with_default instead.\n",
            "\n",
            "WARNING:tensorflow:From /usr/local/lib/python3.6/dist-packages/keras/backend/tensorflow_backend.py:3733: calling dropout (from tensorflow.python.ops.nn_ops) with keep_prob is deprecated and will be removed in a future version.\n",
            "Instructions for updating:\n",
            "Please use `rate` instead of `keep_prob`. Rate should be set to `rate = 1 - keep_prob`.\n",
            "WARNING:tensorflow:From /usr/local/lib/python3.6/dist-packages/keras/optimizers.py:793: The name tf.train.Optimizer is deprecated. Please use tf.compat.v1.train.Optimizer instead.\n",
            "\n",
            "Model: \"sequential_1\"\n",
            "_________________________________________________________________\n",
            "Layer (type)                 Output Shape              Param #   \n",
            "=================================================================\n",
            "dense_1 (Dense)              (None, 1024)              14336     \n",
            "_________________________________________________________________\n",
            "dropout_1 (Dropout)          (None, 1024)              0         \n",
            "_________________________________________________________________\n",
            "activation_1 (Activation)    (None, 1024)              0         \n",
            "_________________________________________________________________\n",
            "dense_2 (Dense)              (None, 1024)              1049600   \n",
            "_________________________________________________________________\n",
            "dropout_2 (Dropout)          (None, 1024)              0         \n",
            "_________________________________________________________________\n",
            "activation_2 (Activation)    (None, 1024)              0         \n",
            "_________________________________________________________________\n",
            "dense_3 (Dense)              (None, 1)                 1025      \n",
            "=================================================================\n",
            "Total params: 1,064,961\n",
            "Trainable params: 1,064,961\n",
            "Non-trainable params: 0\n",
            "_________________________________________________________________\n",
            "None\n"
          ],
          "name": "stdout"
        }
      ]
    },
    {
      "cell_type": "code",
      "metadata": {
        "id": "Do4AImxLgenN",
        "colab_type": "code",
        "colab": {
          "base_uri": "https://localhost:8080/",
          "height": 321
        },
        "outputId": "6a7b45c1-c971-4806-e367-ae5ff11198e3"
      },
      "source": [
        "history=model.fit(x_train, y_train, validation_split=0.15, epochs=10000,batch_size=256, verbose=0)"
      ],
      "execution_count": 10,
      "outputs": [
        {
          "output_type": "stream",
          "text": [
            "WARNING:tensorflow:From /usr/local/lib/python3.6/dist-packages/keras/backend/tensorflow_backend.py:1033: The name tf.assign_add is deprecated. Please use tf.compat.v1.assign_add instead.\n",
            "\n",
            "WARNING:tensorflow:From /usr/local/lib/python3.6/dist-packages/keras/backend/tensorflow_backend.py:1020: The name tf.assign is deprecated. Please use tf.compat.v1.assign instead.\n",
            "\n",
            "WARNING:tensorflow:From /usr/local/lib/python3.6/dist-packages/keras/backend/tensorflow_backend.py:3005: The name tf.Session is deprecated. Please use tf.compat.v1.Session instead.\n",
            "\n",
            "WARNING:tensorflow:From /usr/local/lib/python3.6/dist-packages/keras/backend/tensorflow_backend.py:190: The name tf.get_default_session is deprecated. Please use tf.compat.v1.get_default_session instead.\n",
            "\n",
            "WARNING:tensorflow:From /usr/local/lib/python3.6/dist-packages/keras/backend/tensorflow_backend.py:197: The name tf.ConfigProto is deprecated. Please use tf.compat.v1.ConfigProto instead.\n",
            "\n",
            "WARNING:tensorflow:From /usr/local/lib/python3.6/dist-packages/keras/backend/tensorflow_backend.py:207: The name tf.global_variables is deprecated. Please use tf.compat.v1.global_variables instead.\n",
            "\n",
            "WARNING:tensorflow:From /usr/local/lib/python3.6/dist-packages/keras/backend/tensorflow_backend.py:216: The name tf.is_variable_initialized is deprecated. Please use tf.compat.v1.is_variable_initialized instead.\n",
            "\n",
            "WARNING:tensorflow:From /usr/local/lib/python3.6/dist-packages/keras/backend/tensorflow_backend.py:223: The name tf.variables_initializer is deprecated. Please use tf.compat.v1.variables_initializer instead.\n",
            "\n"
          ],
          "name": "stdout"
        }
      ]
    },
    {
      "cell_type": "code",
      "metadata": {
        "id": "slkr88s0_9qS",
        "colab_type": "code",
        "outputId": "fd00f608-abf1-4493-c936-7c714fa698f3",
        "colab": {
          "base_uri": "https://localhost:8080/",
          "height": 294
        }
      },
      "source": [
        "# Plot training & validation loss values\n",
        "plt.plot(history.history['loss'])\n",
        "plt.plot(history.history['val_loss'])\n",
        "plt.title('Model loss')\n",
        "plt.ylabel('Loss')\n",
        "plt.xlabel('Epoch')\n",
        "plt.legend(['Train', 'Test'], loc='upper left')\n",
        "plt.show()"
      ],
      "execution_count": 11,
      "outputs": [
        {
          "output_type": "display_data",
          "data": {
            "image/png": "[encoded data removed]",
            "text/plain": [
              "<Figure size 432x288 with 1 Axes>"
            ]
          },
          "metadata": {
            "tags": []
          }
        }
      ]
    },
    {
      "cell_type": "code",
      "metadata": {
        "id": "QLoWVxxso7Vi",
        "colab_type": "code",
        "outputId": "e0258203-3952-4d89-9b83-74a3e23b0276",
        "colab": {
          "base_uri": "https://localhost:8080/",
          "height": 123
        }
      },
      "source": [
        "pred_nnet = model.predict(x_test)\n",
        "\n",
        "print(explained_variance_score(y_test, pred_nnet))\n",
        "print(r2_score(y_test, pred_nnet))\n",
        "print(median_absolute_error(y_test, pred_nnet))\n",
        "print(mean_absolute_error(y_test, pred_nnet))\n",
        "print(mean_squared_error(y_test, pred_nnet))\n",
        "print(max_error(y_test, pred_nnet))"
      ],
      "execution_count": 12,
      "outputs": [
        {
          "output_type": "stream",
          "text": [
            "0.7580155038681122\n",
            "0.7448432108062083\n",
            "9.615396793549529\n",
            "15.323766306216138\n",
            "480.39519912572376\n",
            "83.17393761250511\n"
          ],
          "name": "stdout"
        }
      ]
    },
    {
      "cell_type": "code",
      "metadata": {
        "id": "4L0vhs4DNyR3",
        "colab_type": "code",
        "colab": {}
      },
      "source": [
        "filename = 'bike_pred_model.sav'\n",
        "pickle.dump(model, open(filename, 'wb'))\n",
        "files.download(filename)"
      ],
      "execution_count": 0,
      "outputs": []
    }
  ]
}